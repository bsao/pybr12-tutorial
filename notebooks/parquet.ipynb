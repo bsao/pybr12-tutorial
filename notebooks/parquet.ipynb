{
 "cells": [
  {
   "cell_type": "code",
   "execution_count": 1,
   "metadata": {
    "collapsed": true
   },
   "outputs": [],
   "source": [
    "from pyspark import SparkContext\n",
    "from pyspark.sql import SQLContext\n",
    "sc = SparkContext()\n",
    "sql = SQLContext(sc)"
   ]
  },
  {
   "cell_type": "code",
   "execution_count": 2,
   "metadata": {
    "collapsed": false
   },
   "outputs": [],
   "source": [
    "wiki_parquet = sql.read.parquet('wiki_parquet')"
   ]
  },
  {
   "cell_type": "code",
   "execution_count": 3,
   "metadata": {
    "collapsed": false
   },
   "outputs": [
    {
     "data": {
      "text/plain": [
       "39365"
      ]
     },
     "execution_count": 3,
     "metadata": {},
     "output_type": "execute_result"
    }
   ],
   "source": [
    "wiki_parquet.count()"
   ]
  },
  {
   "cell_type": "code",
   "execution_count": 5,
   "metadata": {
    "collapsed": false
   },
   "outputs": [],
   "source": [
    "wiki_parquet.registerTempTable(\"wiki_table\")\n",
    "result = sql.sql(\"SELECT COUNT(*) AS page_count FROM wiki_table\").collect()"
   ]
  },
  {
   "cell_type": "code",
   "execution_count": 6,
   "metadata": {
    "collapsed": false
   },
   "outputs": [
    {
     "data": {
      "text/plain": [
       "[Row(page_count=39365)]"
      ]
     },
     "execution_count": 6,
     "metadata": {},
     "output_type": "execute_result"
    }
   ],
   "source": [
    "result"
   ]
  },
  {
   "cell_type": "code",
   "execution_count": 11,
   "metadata": {
    "collapsed": false
   },
   "outputs": [],
   "source": [
    "query = sql.sql(\"SELECT username, COUNT(*) AS cnt FROM wiki_table WHERE username <> '' GROUP BY username ORDER BY cnt DESC LIMIT 10\")"
   ]
  },
  {
   "cell_type": "code",
   "execution_count": 12,
   "metadata": {
    "collapsed": false
   },
   "outputs": [
    {
     "data": {
      "text/plain": [
       "[Row(username='Waacstats', cnt=2003),\n",
       " Row(username='Cydebot', cnt=949),\n",
       " Row(username='BattyBot', cnt=939),\n",
       " Row(username='Yobot', cnt=890),\n",
       " Row(username='Addbot', cnt=853),\n",
       " Row(username='Monkbot', cnt=668),\n",
       " Row(username='ChrisGualtieri', cnt=438),\n",
       " Row(username='RjwilmsiBot', cnt=387),\n",
       " Row(username='OccultZone', cnt=377),\n",
       " Row(username='ClueBot NG', cnt=353)]"
      ]
     },
     "execution_count": 12,
     "metadata": {},
     "output_type": "execute_result"
    }
   ],
   "source": [
    "query.collect()"
   ]
  },
  {
   "cell_type": "code",
   "execution_count": 14,
   "metadata": {
    "collapsed": false
   },
   "outputs": [],
   "source": [
    "query.write.parquet('bsao_wiki')"
   ]
  },
  {
   "cell_type": "code",
   "execution_count": 15,
   "metadata": {
    "collapsed": false
   },
   "outputs": [
    {
     "data": {
      "text/plain": [
       "10"
      ]
     },
     "execution_count": 15,
     "metadata": {},
     "output_type": "execute_result"
    }
   ],
   "source": [
    "sql.read.parquet('bsao_wiki').count()"
   ]
  },
  {
   "cell_type": "code",
   "execution_count": 17,
   "metadata": {
    "collapsed": false
   },
   "outputs": [
    {
     "data": {
      "text/plain": [
       "['Usernames: Waacstats',\n",
       " 'Usernames: Cydebot',\n",
       " 'Usernames: BattyBot',\n",
       " 'Usernames: Yobot',\n",
       " 'Usernames: Addbot',\n",
       " 'Usernames: Monkbot',\n",
       " 'Usernames: ChrisGualtieri',\n",
       " 'Usernames: RjwilmsiBot',\n",
       " 'Usernames: OccultZone',\n",
       " 'Usernames: ClueBot NG']"
      ]
     },
     "execution_count": 17,
     "metadata": {},
     "output_type": "execute_result"
    }
   ],
   "source": [
    "names = query.map(lambda p: \"Usernames: \" + p.username) \n",
    "names.collect()"
   ]
  },
  {
   "cell_type": "code",
   "execution_count": null,
   "metadata": {
    "collapsed": true
   },
   "outputs": [],
   "source": []
  }
 ],
 "metadata": {
  "kernelspec": {
   "display_name": "Python 3",
   "language": "python",
   "name": "python3"
  },
  "language_info": {
   "codemirror_mode": {
    "name": "ipython",
    "version": 3
   },
   "file_extension": ".py",
   "mimetype": "text/x-python",
   "name": "python",
   "nbconvert_exporter": "python",
   "pygments_lexer": "ipython3",
   "version": "3.5.1"
  }
 },
 "nbformat": 4,
 "nbformat_minor": 0
}
